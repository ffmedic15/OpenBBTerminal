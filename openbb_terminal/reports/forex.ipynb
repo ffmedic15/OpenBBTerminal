{
 "cells": [
  {
   "cell_type": "markdown",
   "id": "70ba2c8a",
   "metadata": {},
   "source": [
    "## Notebook setup"
   ]
  },
  {
   "cell_type": "code",
   "execution_count": null,
   "id": "driven-billion",
   "metadata": {},
   "outputs": [],
   "source": [
    "# Note: This is work in progress and not done yet\n",
    "import os\n",
    "import io\n",
    "import warnings\n",
    "import datetime\n",
    "import numpy as np\n",
    "import base64\n",
    "\n",
    "import matplotlib.pyplot as plt\n",
    "import matplotlib_inline.backend_inline\n",
    "import pandas as pd\n",
    "\n",
    "from IPython.display import HTML\n",
    "\n",
    "# import sys\n",
    "# sys.path.append('../../')\n",
    "\n",
    "from openbb_terminal.api import openbb\n",
    "from openbb_terminal import api as openbb_extra\n",
    "from openbb_terminal.helper_classes import TerminalStyle\n",
    "\n",
    "%matplotlib inline\n",
    "matplotlib_inline.backend_inline.set_matplotlib_formats(\"svg\")\n",
    "warnings.filterwarnings(\"ignore\")\n",
    "\n",
    "# Detect if prediction capabilities are present. If they are not, disable prediction in the rest of the script\n",
    "# so that the report can still be generated without prediction results.\n",
    "predictions = True\n",
    "try:\n",
    "    openbb.stocks.pred.models\n",
    "except Exception as e:\n",
    "    predictions = False"
   ]
  },
  {
   "cell_type": "code",
   "execution_count": null,
   "id": "c3fe7db5-ec6a-42cf-9e66-52dc1de22370",
   "metadata": {},
   "outputs": [],
   "source": [
    "try:\n",
    "    theme = TerminalStyle(\"light\", \"light\", \"light\")\n",
    "except:\n",
    "    pass\n",
    "stylesheet = openbb_extra.widgets.html_report_stylesheet()\n",
    "with open(\"./openbb_terminal/reports/OpenBB_reports_logo.png\", \"rb\") as image_file:\n",
    "    openbb_image_encoded = base64.b64encode(image_file.read())"
   ]
  },
  {
   "cell_type": "markdown",
   "id": "807fda4e",
   "metadata": {},
   "source": [
    "## Select Ticker"
   ]
  },
  {
   "cell_type": "code",
   "execution_count": null,
   "id": "intended-sherman",
   "metadata": {
    "tags": [
     "parameters"
    ]
   },
   "outputs": [],
   "source": [
    "# Parameters that will be replaced when calling this notebook\n",
    "pair = \"SEKCHF\"\n",
    "report_name = \"\""
   ]
  },
  {
   "cell_type": "code",
   "execution_count": null,
   "id": "1be26dae-cafe-4a22-80aa-eff296fc1a9b",
   "metadata": {},
   "outputs": [],
   "source": [
    "base = pair[:3]\n",
    "quote = pair[3:]\n",
    "\n",
    "data = openbb.forex.load(base, quote, \"d\", \"1day\",(datetime.datetime.now() - datetime.timedelta(days=4 * 30)).strftime(\"%Y-%m-%d\"))\n",
    "data = openbb.stocks.process_candle(data)\n",
    "\n",
    "author = \"Fabian Farestam\"\n",
    "report_title = f\"INVESTMENT RESEARCH REPORT ON {pair.upper()}\"\n",
    "report_date = datetime.datetime.now().strftime(\"%d %B, %Y\")\n",
    "report_time = datetime.datetime.now().strftime(\"%H:%M\")\n",
    "report_timezone = datetime.datetime.now(datetime.timezone.utc).astimezone().tzinfo\n",
    "report_title, report_date, report_time, report_timezone"
   ]
  },
  {
   "cell_type": "markdown",
   "id": "f8a0d747",
   "metadata": {},
   "source": [
    "## Data"
   ]
  },
  {
   "cell_type": "code",
   "execution_count": null,
   "id": "aca4b6ef",
   "metadata": {},
   "outputs": [],
   "source": [
    "fig, (candles) = plt.subplots(nrows=1, ncols=1, figsize=(11, 5), dpi=150)\n",
    "openbb.forex.candle(data, base, quote, external_axes=[candles], chart=True)\n",
    "fig.tight_layout()\n",
    "\n",
    "f = io.BytesIO()\n",
    "fig.savefig(f, format=\"svg\")\n",
    "price_chart = f.getvalue().decode(\"utf-8\")"
   ]
  },
  {
   "cell_type": "code",
   "execution_count": null,
   "id": "dbc3bb34",
   "metadata": {},
   "outputs": [],
   "source": [
    "quote_data = openbb.forex.quote(base, quote)\n",
    "quote_data = pd.DataFrame.from_dict(quote_data)\n",
    "quote_data.index = quote_data.index.to_series().apply(lambda x: x[3:]).values\n",
    "quote_data = quote_data.iloc[[0, 2, 5, 4, 7, 8]]"
   ]
  },
  {
   "cell_type": "code",
   "execution_count": null,
   "id": "1cfa4d34",
   "metadata": {},
   "outputs": [],
   "source": [
    "forward_rates = openbb.forex.forward_rates(quote, base)"
   ]
  },
  {
   "cell_type": "code",
   "execution_count": null,
   "id": "0b542284",
   "metadata": {},
   "outputs": [],
   "source": [
    "df = openbb.common.technical_analysis.rsi(data[\"Close\"])\n",
    "rsi_value = round(df.values[-1][0], 2)"
   ]
  },
  {
   "cell_type": "code",
   "execution_count": null,
   "id": "2a327bc2",
   "metadata": {},
   "outputs": [],
   "source": [
    "result, _, _ = openbb.common.quantitative_analysis.seasonal_decomposition(data[\"Adj Close\"], False)\n",
    "seasonal = \"Time-Series Level is \" + str(round(data[\"Adj Close\"].mean(), 2))\n",
    "\n",
    "Ft = max(0, 1 - np.var(result.resid)) / np.var(result.trend + result.resid)\n",
    "seasonal += f\"<br><br>Strength of Trend: {Ft:.4f}<br>\"\n",
    "\n",
    "Fs = max(0, 1 - np.var(result.resid) / np.var(result.seasonal + result.resid))\n",
    "seasonal += f\"<br>Strength of Seasonality: {Fs:.4f}<br>\""
   ]
  },
  {
   "cell_type": "code",
   "execution_count": null,
   "id": "626574cf",
   "metadata": {},
   "outputs": [],
   "source": [
    "summary = openbb.common.quantitative_analysis.summary(data)"
   ]
  },
  {
   "cell_type": "markdown",
   "id": "ac501a32-124d-4d21-aae1-a8d147bb1071",
   "metadata": {},
   "source": [
    "## Render the report template to a file"
   ]
  },
  {
   "cell_type": "code",
   "execution_count": null,
   "id": "abfe37e4-ea38-42c3-8fb5-7cceb233fb12",
   "metadata": {},
   "outputs": [],
   "source": [
    "body = \"\"\n",
    "\n",
    "img = f'<img src=\"data:image/png;base64,{openbb_image_encoded.decode()}\" alt=\"OpenBB\" style=\"width:144px;\">'\n",
    "body += openbb_extra.widgets.header(\n",
    "    img,\n",
    "    author,\n",
    "    report_date,\n",
    "    report_time,\n",
    "    report_timezone,\n",
    "    f\"<b>INVESTMENT RESEARCH REPORT:</b> {pair}\",\n",
    ")\n",
    "\n",
    "body += openbb_extra.widgets.tablinks(\n",
    "    [\n",
    "        \"SUMMARY\",\n",
    "        \"Overview\",\n",
    "        \"Forward Rates\",\n",
    "        \"Quantative Analysis\"\n",
    "    ]\n",
    ")\n",
    "\n",
    "htmlcode = openbb_extra.widgets.h(3, \"KPIs\")\n",
    "htmlcode += openbb_extra.widgets.kpi(\n",
    "    [30, 70],\n",
    "    [\"RSI level is oversold\", \"RSI level is normal\", \"RSI level is overbought\"],\n",
    "    rsi_value,\n",
    ")\n",
    "body += openbb_extra.widgets.add_tab(\"SUMMARY\", htmlcode)\n",
    "\n",
    "\n",
    "htmlcode = openbb_extra.widgets.row([openbb_extra.widgets.h(3, f\"{base}/{quote} Chart\") + price_chart])\n",
    "htmlcode += openbb_extra.widgets.row([openbb_extra.widgets.h(3, f\"{base}/{quote} Quotes\") + quote_data.to_html()])\n",
    "body += openbb_extra.widgets.add_tab(\"Overview\", htmlcode)\n",
    "htmlcode = openbb_extra.widgets.row([openbb_extra.widgets.h(3, f\"Forward rates for {base}/{quote}\") + forward_rates.to_html()])\n",
    "body += openbb_extra.widgets.add_tab(\"Forward Rates\", htmlcode)\n",
    "\n",
    "htmlcode = openbb_extra.widgets.row([openbb_extra.widgets.h(3, f\"Summary\") + summary.to_html()])\n",
    "htmlcode += openbb_extra.widgets.row([openbb_extra.widgets.h(3, f\"Seasonal Decomposition\") + seasonal])\n",
    "body += openbb_extra.widgets.add_tab(\"Quantative Analysis\", htmlcode)\n",
    "\n",
    "body += openbb_extra.widgets.tab_clickable_evt()\n",
    "\n",
    "report = openbb_extra.widgets.html_report(\n",
    "    title=report_name, stylesheet=stylesheet, body=body\n",
    ")\n",
    "\n",
    "# to save the results\n",
    "with open(report_name + \".html\", \"w\", encoding=\"utf-8\") as fh:\n",
    "    fh.write(report)"
   ]
  },
  {
   "cell_type": "code",
   "execution_count": null,
   "id": "746a3e56",
   "metadata": {},
   "outputs": [],
   "source": []
  }
 ],
 "metadata": {
  "celltoolbar": "Tags",
  "interpreter": {
   "hash": "81794d4967e6c3204c66dcd87b604927b115b27c00565d3d43f05ba2f3a2cb0d"
  },
  "kernelspec": {
   "display_name": "Python 3 (ipykernel)",
   "language": "python",
   "name": "python3"
  },
  "language_info": {
   "codemirror_mode": {
    "name": "ipython",
    "version": 3
   },
   "file_extension": ".py",
   "mimetype": "text/x-python",
   "name": "python",
   "nbconvert_exporter": "python",
   "pygments_lexer": "ipython3",
   "version": "3.8.12"
  }
 },
 "nbformat": 4,
 "nbformat_minor": 5
}
